{
 "cells": [
  {
   "cell_type": "code",
   "execution_count": null,
   "metadata": {},
   "outputs": [],
   "source": [
    "# %% [markdown]\n",
    "# # A Markdown cell\n",
    "# - You can do all the fun stuff markdown has to offer\n",
    "\n",
    "# %% [markdown]\n",
    "# ## Another Markdown cell\n",
    "\n",
    "\n",
    "# %%\n",
    "# This is a code cell\n",
    "class A():\n",
    "    def one():\n",
    "        return 1\n",
    "\n",
    "    def two():\n",
    "        return 2\n"
   ]
  },
  {
   "cell_type": "code",
   "execution_count": null,
   "metadata": {},
   "outputs": [],
   "source": [
    "\n",
    "# %%\n",
    "# This is another code cell\n",
    "import numpy as np\n",
    "\n",
    "mylist = np.arange(0,10)\n",
    "print(f\"this is my list {mylist}\")"
   ]
  }
 ],
 "metadata": {
  "language_info": {
   "name": "python"
  }
 },
 "nbformat": 4,
 "nbformat_minor": 2
}
